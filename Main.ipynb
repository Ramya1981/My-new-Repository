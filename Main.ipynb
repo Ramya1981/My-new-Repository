{
 "cells": [
  {
   "cell_type": "code",
   "execution_count": 1,
   "id": "27890ac6",
   "metadata": {},
   "outputs": [
    {
     "name": "stdout",
     "output_type": "stream",
     "text": [
      "Requirement already satisfied: ipywidgets in c:\\users\\ramya sundaram\\anaconda3\\lib\\site-packages (8.0.4)\n",
      "Requirement already satisfied: ipykernel>=4.5.1 in c:\\users\\ramya sundaram\\anaconda3\\lib\\site-packages (from ipywidgets) (6.19.2)\n",
      "Requirement already satisfied: ipython>=6.1.0 in c:\\users\\ramya sundaram\\anaconda3\\lib\\site-packages (from ipywidgets) (8.12.0)\n",
      "Requirement already satisfied: traitlets>=4.3.1 in c:\\users\\ramya sundaram\\anaconda3\\lib\\site-packages (from ipywidgets) (5.7.1)\n",
      "Requirement already satisfied: widgetsnbextension~=4.0 in c:\\users\\ramya sundaram\\anaconda3\\lib\\site-packages (from ipywidgets) (4.0.5)\n",
      "Requirement already satisfied: jupyterlab-widgets~=3.0 in c:\\users\\ramya sundaram\\anaconda3\\lib\\site-packages (from ipywidgets) (3.0.5)\n",
      "Requirement already satisfied: comm>=0.1.1 in c:\\users\\ramya sundaram\\anaconda3\\lib\\site-packages (from ipykernel>=4.5.1->ipywidgets) (0.1.2)\n",
      "Requirement already satisfied: debugpy>=1.0 in c:\\users\\ramya sundaram\\anaconda3\\lib\\site-packages (from ipykernel>=4.5.1->ipywidgets) (1.6.7)\n",
      "Requirement already satisfied: jupyter-client>=6.1.12 in c:\\users\\ramya sundaram\\anaconda3\\lib\\site-packages (from ipykernel>=4.5.1->ipywidgets) (7.4.9)\n",
      "Requirement already satisfied: matplotlib-inline>=0.1 in c:\\users\\ramya sundaram\\anaconda3\\lib\\site-packages (from ipykernel>=4.5.1->ipywidgets) (0.1.6)\n",
      "Requirement already satisfied: nest-asyncio in c:\\users\\ramya sundaram\\anaconda3\\lib\\site-packages (from ipykernel>=4.5.1->ipywidgets) (1.5.6)\n",
      "Requirement already satisfied: packaging in c:\\users\\ramya sundaram\\anaconda3\\lib\\site-packages (from ipykernel>=4.5.1->ipywidgets) (23.0)\n",
      "Requirement already satisfied: psutil in c:\\users\\ramya sundaram\\anaconda3\\lib\\site-packages (from ipykernel>=4.5.1->ipywidgets) (5.9.0)\n",
      "Requirement already satisfied: pyzmq>=17 in c:\\users\\ramya sundaram\\anaconda3\\lib\\site-packages (from ipykernel>=4.5.1->ipywidgets) (23.2.0)\n",
      "Requirement already satisfied: tornado>=6.1 in c:\\users\\ramya sundaram\\anaconda3\\lib\\site-packages (from ipykernel>=4.5.1->ipywidgets) (6.3.2)\n",
      "Requirement already satisfied: backcall in c:\\users\\ramya sundaram\\anaconda3\\lib\\site-packages (from ipython>=6.1.0->ipywidgets) (0.2.0)\n",
      "Requirement already satisfied: decorator in c:\\users\\ramya sundaram\\anaconda3\\lib\\site-packages (from ipython>=6.1.0->ipywidgets) (5.1.1)\n",
      "Requirement already satisfied: jedi>=0.16 in c:\\users\\ramya sundaram\\anaconda3\\lib\\site-packages (from ipython>=6.1.0->ipywidgets) (0.18.1)\n",
      "Requirement already satisfied: pickleshare in c:\\users\\ramya sundaram\\anaconda3\\lib\\site-packages (from ipython>=6.1.0->ipywidgets) (0.7.5)\n",
      "Requirement already satisfied: prompt-toolkit!=3.0.37,<3.1.0,>=3.0.30 in c:\\users\\ramya sundaram\\anaconda3\\lib\\site-packages (from ipython>=6.1.0->ipywidgets) (3.0.36)\n",
      "Requirement already satisfied: pygments>=2.4.0 in c:\\users\\ramya sundaram\\anaconda3\\lib\\site-packages (from ipython>=6.1.0->ipywidgets) (2.15.1)\n",
      "Requirement already satisfied: stack-data in c:\\users\\ramya sundaram\\anaconda3\\lib\\site-packages (from ipython>=6.1.0->ipywidgets) (0.2.0)\n",
      "Requirement already satisfied: colorama in c:\\users\\ramya sundaram\\anaconda3\\lib\\site-packages (from ipython>=6.1.0->ipywidgets) (0.4.6)\n",
      "Requirement already satisfied: parso<0.9.0,>=0.8.0 in c:\\users\\ramya sundaram\\anaconda3\\lib\\site-packages (from jedi>=0.16->ipython>=6.1.0->ipywidgets) (0.8.3)\n",
      "Requirement already satisfied: entrypoints in c:\\users\\ramya sundaram\\anaconda3\\lib\\site-packages (from jupyter-client>=6.1.12->ipykernel>=4.5.1->ipywidgets) (0.4)\n",
      "Requirement already satisfied: jupyter-core>=4.9.2 in c:\\users\\ramya sundaram\\anaconda3\\lib\\site-packages (from jupyter-client>=6.1.12->ipykernel>=4.5.1->ipywidgets) (5.3.0)\n",
      "Requirement already satisfied: python-dateutil>=2.8.2 in c:\\users\\ramya sundaram\\anaconda3\\lib\\site-packages (from jupyter-client>=6.1.12->ipykernel>=4.5.1->ipywidgets) (2.8.2)\n",
      "Requirement already satisfied: wcwidth in c:\\users\\ramya sundaram\\anaconda3\\lib\\site-packages (from prompt-toolkit!=3.0.37,<3.1.0,>=3.0.30->ipython>=6.1.0->ipywidgets) (0.2.5)\n",
      "Requirement already satisfied: executing in c:\\users\\ramya sundaram\\anaconda3\\lib\\site-packages (from stack-data->ipython>=6.1.0->ipywidgets) (0.8.3)\n",
      "Requirement already satisfied: asttokens in c:\\users\\ramya sundaram\\anaconda3\\lib\\site-packages (from stack-data->ipython>=6.1.0->ipywidgets) (2.0.5)\n",
      "Requirement already satisfied: pure-eval in c:\\users\\ramya sundaram\\anaconda3\\lib\\site-packages (from stack-data->ipython>=6.1.0->ipywidgets) (0.2.2)\n",
      "Requirement already satisfied: platformdirs>=2.5 in c:\\users\\ramya sundaram\\anaconda3\\lib\\site-packages (from jupyter-core>=4.9.2->jupyter-client>=6.1.12->ipykernel>=4.5.1->ipywidgets) (2.5.2)\n",
      "Requirement already satisfied: pywin32>=300 in c:\\users\\ramya sundaram\\anaconda3\\lib\\site-packages (from jupyter-core>=4.9.2->jupyter-client>=6.1.12->ipykernel>=4.5.1->ipywidgets) (305.1)\n",
      "Requirement already satisfied: six>=1.5 in c:\\users\\ramya sundaram\\anaconda3\\lib\\site-packages (from python-dateutil>=2.8.2->jupyter-client>=6.1.12->ipykernel>=4.5.1->ipywidgets) (1.16.0)\n"
     ]
    },
    {
     "name": "stderr",
     "output_type": "stream",
     "text": [
      "Enabling notebook extension jupyter-js-widgets/extension...\n",
      "      - Validating: ok\n"
     ]
    }
   ],
   "source": [
    "!pip install ipywidgets\n",
    "!jupyter nbextension enable --py widgetsnbextension"
   ]
  },
  {
   "cell_type": "code",
   "execution_count": 2,
   "id": "e7513c46",
   "metadata": {},
   "outputs": [],
   "source": [
    "def load_data(file_path):\n",
    "    nested_dict = {}\n",
    "\n",
    "    try:\n",
    "        file_open = open(file_path, 'r')\n",
    "        lines = file_open.readlines()\n",
    "        headers = lines[0].strip().split(',')\n",
    "        for line in lines[1:]:\n",
    "            # Split each line into values\n",
    "            values = line.strip().split(',')\n",
    "            #keeping first column as the key for the outer dictionary\n",
    "            key = values[0]\n",
    "            # Create a dictionary for the row\n",
    "            row_dict = {header: value for header, value in zip(headers[0:], values[0:])}\n",
    "            nested_dict[key] = row_dict\n",
    "\n",
    "        return nested_dict\n",
    "\n",
    "    except FileNotFoundError:\n",
    "        print(f\"Error: File '{file_path}' not found.\")\n",
    "        return None\n",
    "\n",
    "    except Exception as e:\n",
    "        print(f\"Error: {e}\")\n",
    "        return None\n"
   ]
  },
  {
   "cell_type": "code",
   "execution_count": 3,
   "id": "8e3c91e4",
   "metadata": {},
   "outputs": [],
   "source": [
    "import ipywidgets as widgets\n",
    "from IPython.display import display, clear_output\n",
    "\n",
    "        \n",
    "def on_button1_clicked(b):\n",
    "    with output:\n",
    "        clear_output(wait=True)\n",
    "        file_path = \"heart_failure_clinical_records_dataset-pcp.csv\"\n",
    "        result = load_data(file_path)\n",
    "        if result is not None:\n",
    "        # Iterate over the dictionary and print \"age\" and its value\n",
    "            for key, nested_dict in result.items():\n",
    "                print(f\"{key}: {nested_dict}\")\n",
    "\n",
    "def on_button2_clicked(b):\n",
    "    with output:\n",
    "        clear_output(wait=True)\n",
    "        file_path = \"heart_failure_clinical_records_dataset-pcp.csv\"\n",
    "        result = load_data(file_path)\n",
    "        from querymodule import compute_average_age, compute_modal_age, compute_median_age\n",
    "        death_records = {key: value for key, value in result.items() if value.get(\"DEATH_EVENT\") == \"1\"}\n",
    "\n",
    "        # Compute and print the average age\n",
    "        average_age = compute_average_age(death_records)\n",
    "        if average_age is not None:\n",
    "            print(f\"Average Age of Those Whose Heart Failure Resulted in Death: {average_age}\")\n",
    "        else:\n",
    "            print(\"No records found for individuals whose heart failure resulted in death.\")\n",
    "\n",
    "        # Compute and print the modal age\n",
    "        modal_age = compute_modal_age(death_records)\n",
    "        if modal_age is not None:\n",
    "            print(f\"Modal Age of Those Whose Heart Failure Resulted in Death: {modal_age}\")\n",
    "        else:\n",
    "            print(\"No records found for individuals whose heart failure resulted in death.\")\n",
    "\n",
    "        # Compute and print the median age\n",
    "        median_age = compute_median_age(death_records)\n",
    "        if median_age is not None:\n",
    "            print(f\"Median Age of Those Whose Heart Failure Resulted in Death: {median_age}\")\n",
    "        else:\n",
    "            print(\"No records found for individuals whose heart failure resulted in death.\")\n",
    "            \n",
    "def on_button3_clicked(b):\n",
    "    with output:\n",
    "        clear_output(wait=True)\n",
    "        file_path = \"heart_failure_clinical_records_dataset-pcp.csv\"\n",
    "        result = load_data(file_path)\n",
    "        from querymodule import compute_average_age_diabetes, compute_modal_age_diabetes, compute_median_age_diabetes\n",
    "\n",
    "        # Compute and print the average age of individuals with diabetes\n",
    "\n",
    "        diabetes_records = {key: value for key, value in result.items() if value.get(\"diabetes\") == \"1\"}\n",
    "        average_age_diabetes = compute_average_age_diabetes(diabetes_records)\n",
    "        if average_age_diabetes is not None:\n",
    "            print(f\"Average Age of Individuals with Diabetes: {average_age_diabetes}\")\n",
    "        else:\n",
    "            print(\"No records found for individuals with diabetes.\")\n",
    "\n",
    "        # Compute and print the modal age of individuals with diabetes\n",
    "        modal_age_diabetes = compute_modal_age_diabetes( diabetes_records)\n",
    "        if modal_age_diabetes is not None:\n",
    "            print(f\"Modal Age of Individuals with Diabetes: {modal_age_diabetes}\")\n",
    "        else:\n",
    "            print(\"No records found for individuals with diabetes.\")\n",
    "\n",
    "        # Compute and print the median age of individuals with diabetes\n",
    "        median_age_diabetes = compute_median_age_diabetes( diabetes_records)\n",
    "        if median_age_diabetes is not None:\n",
    "            print(f\"Median Age of Individuals with Diabetes: {median_age_diabetes}\")\n",
    "        else:\n",
    "            print(\"No records found for individuals with diabetes.\")\n",
    "\n",
    "def on_button4_clicked(b):\n",
    "    with output:\n",
    "        clear_output(wait=True)\n",
    "        file_path = \"heart_failure_clinical_records_dataset-pcp.csv\"\n",
    "        result = load_data(file_path)\n",
    "        from querymodule import compute_average_time_no_death\n",
    "        # Compute and print the average time taken for individuals without death\n",
    "        average_time_no_death = compute_average_time_no_death(result)\n",
    "        if average_time_no_death is not None:\n",
    "            print(f\"Average Time Taken for Individuals Without Death: {average_time_no_death}\")\n",
    "        else:\n",
    "            print(\"No records found for individuals without death.\")\n",
    "\n",
    "def on_button5_clicked(b):\n",
    "    with output:\n",
    "        clear_output(wait=True)\n",
    "        file_path = \"heart_failure_clinical_records_dataset-pcp.csv\"\n",
    "        result = load_data(file_path)\n",
    "        from querymodule import compute_stats_high_blood_pressure\n",
    "        # Compute and print stats for individuals with high blood pressure\n",
    "        median_age, average_age, modal_age = compute_stats_high_blood_pressure(result)\n",
    "\n",
    "        if median_age is not None:\n",
    "            print(f\"Median Age of Individuals with High Blood Pressure: {median_age}\")\n",
    "\n",
    "        if average_age is not None:\n",
    "            print(f\"Average Age of Individuals with High Blood Pressure: {average_age}\")\n",
    "\n",
    "        if modal_age is not None:\n",
    "            print(f\"Modal Age of Individuals with High Blood Pressure: {modal_age}\")\n",
    "\n",
    "        if median_age is None and average_age is None and modal_age is None:\n",
    "            print(\"No records found for individuals with high blood pressure.\")\n",
    "\n",
    "            \n",
    "def on_button6_clicked(b):\n",
    "    with output:\n",
    "        clear_output(wait=True)\n",
    "        file_path = \"heart_failure_clinical_records_dataset-pcp.csv\"\n",
    "        result = load_data(file_path)\n",
    "        from querymodule import diabetes_link_analysis\n",
    "        # Determine whether diabetes is linked to smoking and high blood pressure\n",
    "        linked_diabetes = diabetes_link_analysis(result)\n",
    "        if linked_diabetes:\n",
    "            print(\"Diabetes is linked to smoking and high blood pressure.\")\n",
    "        else:\n",
    "            print(\"No clear link found between diabetes, smoking, and high blood pressure.\")\n",
    "\n",
    "def on_button7_clicked(b):\n",
    "    with output:\n",
    "        clear_output(wait=True)\n",
    "        file_path = \"heart_failure_clinical_records_dataset-pcp.csv\"\n",
    "        result = load_data(file_path)\n",
    "        from querymodule import compute_average_serum_sodium_diabetes\n",
    "        # Compute and print the average serum sodium for individuals with diabetes\n",
    "        average_serum_sodium_diabetes = compute_average_serum_sodium_diabetes(result)\n",
    "\n",
    "        if average_serum_sodium_diabetes is not None:\n",
    "            print(f\"Average Serum Sodium of Individuals with Diabetes: {average_serum_sodium_diabetes}\")\n",
    "        else:\n",
    "            print(\"No records found for individuals with diabetes.\")\n",
    "\n",
    "            \n",
    "def on_button8_clicked(b):\n",
    "    with output:\n",
    "        clear_output(wait=True)\n",
    "        file_path = \"heart_failure_clinical_records_dataset-pcp.csv\"\n",
    "        result = load_data(file_path)\n",
    "        from querymodule import is_anemia_linked_to_smoking\n",
    "        # Determine if anemia is linked to smoking\n",
    "        linked_anemia = is_anemia_linked_to_smoking(result)\n",
    "\n",
    "        if linked_anemia:\n",
    "            print(\"Anemia is linked to smoking.\")\n",
    "        else:\n",
    "            print(\"No clear link found between anemia and smoking.\")\n",
    "\n",
    "\n",
    "def on_button9_clicked(b):\n",
    "    with output:\n",
    "        clear_output(wait=True)\n",
    "        file_path = \"heart_failure_clinical_records_dataset-pcp.csv\"\n",
    "        result = load_data(file_path)\n",
    "        from querymodule import individuals_without_high_blood_pressure_died \n",
    "        # Get individuals without high blood pressure who died of heart failure\n",
    "        result_without_high_bp_death = individuals_without_high_blood_pressure_died(result)\n",
    "\n",
    "        if result_without_high_bp_death:\n",
    "            for key, value in result_without_high_bp_death.items():\n",
    "                print(f\"Individual ID: {key}, Record: {value}\")\n",
    "        else:\n",
    "            print(\"No individuals found without high blood pressure who died of heart failure.\")\n",
    "\n",
    "\n",
    "def on_button10_clicked(b):\n",
    "    with output:\n",
    "        clear_output(wait=True)\n",
    "        file_path = \"heart_failure_clinical_records_dataset-pcp.csv\"\n",
    "        result = load_data(file_path)\n",
    "        from querymodule import compute_iqrs\n",
    "        # Compute and print the IQRs for ejection fraction and serum creatinine\n",
    "        iqr_ef, iqr_scr = compute_iqrs(result)\n",
    "\n",
    "        print(f\"IQR for Ejection Fraction: {iqr_ef}\")\n",
    "        print(f\"IQR for Serum Creatinine: {iqr_scr}\")\n",
    "\n",
    "\n",
    "def on_button11_clicked(b):\n",
    "    with output:\n",
    "        clear_output(wait=True)\n",
    "        file_path = \"heart_failure_clinical_records_dataset-pcp.csv\"\n",
    "        result = load_data(file_path)\n",
    "        from querymodule import compute_sample_variance \n",
    "        # Compute and print the sample variances for creatinine phosphokinase and serum sodium\n",
    "        variance_ck, variance_sodium = compute_sample_variance(result)\n",
    "\n",
    "        print(f\"Sample Variance for Creatinine Phosphokinase: {variance_ck}\")\n",
    "        print(f\"Sample Variance for Serum Sodium: {variance_sodium}\")\n",
    "\n",
    "def on_button12_clicked(b):\n",
    "    with output:\n",
    "        clear_output(wait=True)\n",
    "        file_path = \"heart_failure_clinical_records_dataset-pcp.csv\"\n",
    "        result = load_data(file_path)\n",
    "        from querymodule import compute_sample_variance_and_save \n",
    "        # Specify the path to the output CSV file\n",
    "        output_file_path = \"output_statistics.csv\"\n",
    "\n",
    "        # Compute sample variances and save results to CSV\n",
    "        variance_ck, variance_sodium = compute_sample_variance_and_save(result, output_file_path)\n",
    "\n",
    "        print(f\"Sample Variance for Creatinine Phosphokinase: {variance_ck}\")\n",
    "        print(f\"Sample Variance for Serum Sodium: {variance_sodium}\")\n",
    "        print(f\"Results saved to: {output_file_path}\")\n",
    "\n",
    "def on_button13_clicked(b):\n",
    "    with output:\n",
    "        clear_output(wait=True)\n",
    "        print(\"Exiting the Program...\")\n",
    "        exit()\n",
    "        \n",
    "but_layout=widgets.Layout(width='700px')\n",
    "\n",
    "but_1=widgets.Button(description=\"Heart_failure_clinical_records\",layout=but_layout)\n",
    "but_1.on_click(on_button1_clicked)\n",
    "\n",
    "but_2=widgets.Button(description=\"Compute avg_median_modal Age death\",layout=but_layout)\n",
    "but_2.on_click(on_button2_clicked)\n",
    "\n",
    "but_3=widgets.Button(description=\"Compute_avg_median_modal_diabetes\",layout=but_layout)\n",
    "but_3.on_click(on_button3_clicked)\n",
    "\n",
    "but_4=widgets.Button(description=\"Average Time Taken for Individuals HF Without Death\",layout=but_layout)\n",
    "but_4.on_click(on_button4_clicked)\n",
    "\n",
    "but_5=widgets.Button(description=\"Compute_avg_median_modal_highbloodpressure\",layout=but_layout)\n",
    "but_5.on_click(on_button5_clicked)\n",
    "\n",
    "but_6=widgets.Button(description=\"Diabetes is linked or not to smoking and high blood pressure\",layout=but_layout)\n",
    "but_6.on_click(on_button6_clicked)\n",
    "\n",
    "but_7=widgets.Button(description=\"Average Serum Sodium of Individuals with Diabetes\",layout=but_layout)\n",
    "but_7.on_click(on_button7_clicked)\n",
    "\n",
    "but_8=widgets.Button(description=\"Anemia is linked to smoking\",layout=but_layout)\n",
    "but_8.on_click(on_button8_clicked)\n",
    "\n",
    "but_9=widgets.Button(description=\"Any individuals high blood pressure who died of heart failure\",layout=but_layout)\n",
    "but_9.on_click(on_button9_clicked)\n",
    "\n",
    "but_10=widgets.Button(description=\"IQRs for ejection fraction and serum creatinine\",layout=but_layout)\n",
    "but_10.on_click(on_button10_clicked)\n",
    "\n",
    "but_11=widgets.Button(description=\"Sample Variance for Creatinine Phosphokinase and Serum Sodium\",layout=but_layout)\n",
    "but_11.on_click(on_button11_clicked)\n",
    "\n",
    "\n",
    "but_12=widgets.Button(description=\"Outputs of Sample Variance for Creatinine Phosphokinase and Serum Sodium into an external file in csv format\",layout=but_layout)\n",
    "but_12.on_click(on_button12_clicked)\n",
    "\n",
    "but_13=widgets.Button(description=\"Quit\",layout=but_layout)\n",
    "but_13.on_click(on_button13_clicked)\n"
   ]
  },
  {
   "cell_type": "code",
   "execution_count": 4,
   "id": "a68f40f2",
   "metadata": {},
   "outputs": [
    {
     "data": {
      "application/vnd.jupyter.widget-view+json": {
       "model_id": "87911a180b0e4a769f05df8da6d9d95b",
       "version_major": 2,
       "version_minor": 0
      },
      "text/plain": [
       "Button(description='Heart_failure_clinical_records', layout=Layout(width='700px'), style=ButtonStyle())"
      ]
     },
     "metadata": {},
     "output_type": "display_data"
    },
    {
     "data": {
      "application/vnd.jupyter.widget-view+json": {
       "model_id": "e3ee083c525f4b47b77e1637403c8707",
       "version_major": 2,
       "version_minor": 0
      },
      "text/plain": [
       "Button(description='Compute avg_median_modal Age death', layout=Layout(width='700px'), style=ButtonStyle())"
      ]
     },
     "metadata": {},
     "output_type": "display_data"
    },
    {
     "data": {
      "application/vnd.jupyter.widget-view+json": {
       "model_id": "42a2344dedcc4404b17a755b3dc19633",
       "version_major": 2,
       "version_minor": 0
      },
      "text/plain": [
       "Button(description='Compute_avg_median_modal_diabetes', layout=Layout(width='700px'), style=ButtonStyle())"
      ]
     },
     "metadata": {},
     "output_type": "display_data"
    },
    {
     "data": {
      "application/vnd.jupyter.widget-view+json": {
       "model_id": "2621bd6e4235450bbde3a76a03341d6c",
       "version_major": 2,
       "version_minor": 0
      },
      "text/plain": [
       "Button(description='Average Time Taken for Individuals HF Without Death', layout=Layout(width='700px'), style=…"
      ]
     },
     "metadata": {},
     "output_type": "display_data"
    },
    {
     "data": {
      "application/vnd.jupyter.widget-view+json": {
       "model_id": "3e989be9d72448f182890db41578a8dd",
       "version_major": 2,
       "version_minor": 0
      },
      "text/plain": [
       "Button(description='Compute_avg_median_modal_highbloodpressure', layout=Layout(width='700px'), style=ButtonSty…"
      ]
     },
     "metadata": {},
     "output_type": "display_data"
    },
    {
     "data": {
      "application/vnd.jupyter.widget-view+json": {
       "model_id": "b8d0ea553bcf479598daafe508553e0a",
       "version_major": 2,
       "version_minor": 0
      },
      "text/plain": [
       "Button(description='Diabetes is linked or not to smoking and high blood pressure', layout=Layout(width='700px'…"
      ]
     },
     "metadata": {},
     "output_type": "display_data"
    },
    {
     "data": {
      "application/vnd.jupyter.widget-view+json": {
       "model_id": "212d6226aaec4d45a63def734f065b46",
       "version_major": 2,
       "version_minor": 0
      },
      "text/plain": [
       "Button(description='Average Serum Sodium of Individuals with Diabetes', layout=Layout(width='700px'), style=Bu…"
      ]
     },
     "metadata": {},
     "output_type": "display_data"
    },
    {
     "data": {
      "application/vnd.jupyter.widget-view+json": {
       "model_id": "1ca7090b5edb435f941ae1f0ca8912d6",
       "version_major": 2,
       "version_minor": 0
      },
      "text/plain": [
       "Button(description='Anemia is linked to smoking', layout=Layout(width='700px'), style=ButtonStyle())"
      ]
     },
     "metadata": {},
     "output_type": "display_data"
    },
    {
     "data": {
      "application/vnd.jupyter.widget-view+json": {
       "model_id": "12e1b639adde41aabb1abfc5e997065a",
       "version_major": 2,
       "version_minor": 0
      },
      "text/plain": [
       "Button(description='Any individuals high blood pressure who died of heart failure', layout=Layout(width='700px…"
      ]
     },
     "metadata": {},
     "output_type": "display_data"
    },
    {
     "data": {
      "application/vnd.jupyter.widget-view+json": {
       "model_id": "d579487605b74f2b96fd4b3b9d4163d9",
       "version_major": 2,
       "version_minor": 0
      },
      "text/plain": [
       "Button(description='IQRs for ejection fraction and serum creatinine', layout=Layout(width='700px'), style=Butt…"
      ]
     },
     "metadata": {},
     "output_type": "display_data"
    },
    {
     "data": {
      "application/vnd.jupyter.widget-view+json": {
       "model_id": "1e85676a9ef246848d91039f6febe34e",
       "version_major": 2,
       "version_minor": 0
      },
      "text/plain": [
       "Button(description='Sample Variance for Creatinine Phosphokinase and Serum Sodium', layout=Layout(width='700px…"
      ]
     },
     "metadata": {},
     "output_type": "display_data"
    },
    {
     "data": {
      "application/vnd.jupyter.widget-view+json": {
       "model_id": "6d5fba9de8df47ba809e3845fae60388",
       "version_major": 2,
       "version_minor": 0
      },
      "text/plain": [
       "Button(description='Outputs of Sample Variance for Creatinine Phosphokinase and Serum Sodium into an external …"
      ]
     },
     "metadata": {},
     "output_type": "display_data"
    },
    {
     "data": {
      "application/vnd.jupyter.widget-view+json": {
       "model_id": "048c3155cc6b46b3b29b3c72277989b3",
       "version_major": 2,
       "version_minor": 0
      },
      "text/plain": [
       "Button(description='Quit', layout=Layout(width='700px'), style=ButtonStyle())"
      ]
     },
     "metadata": {},
     "output_type": "display_data"
    },
    {
     "data": {
      "application/vnd.jupyter.widget-view+json": {
       "model_id": "cadd08cab1804ed2856168d290a51815",
       "version_major": 2,
       "version_minor": 0
      },
      "text/plain": [
       "Output()"
      ]
     },
     "metadata": {},
     "output_type": "display_data"
    }
   ],
   "source": [
    "output=widgets.Output()\n",
    "display(but_1)\n",
    "display(but_2)\n",
    "display(but_3)\n",
    "display(but_4)\n",
    "display(but_5)\n",
    "display(but_6)\n",
    "display(but_7)\n",
    "display(but_8)\n",
    "display(but_9)\n",
    "display(but_10)\n",
    "display(but_11)\n",
    "display(but_12)\n",
    "display(but_13)\n",
    "display(output)"
   ]
  },
  {
   "cell_type": "code",
   "execution_count": null,
   "id": "9b9df825",
   "metadata": {},
   "outputs": [],
   "source": []
  }
 ],
 "metadata": {
  "kernelspec": {
   "display_name": "Python 3 (ipykernel)",
   "language": "python",
   "name": "python3"
  },
  "language_info": {
   "codemirror_mode": {
    "name": "ipython",
    "version": 3
   },
   "file_extension": ".py",
   "mimetype": "text/x-python",
   "name": "python",
   "nbconvert_exporter": "python",
   "pygments_lexer": "ipython3",
   "version": "3.11.4"
  }
 },
 "nbformat": 4,
 "nbformat_minor": 5
}
